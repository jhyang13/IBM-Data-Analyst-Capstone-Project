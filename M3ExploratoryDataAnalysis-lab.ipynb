{
  "metadata": {
    "kernelspec": {
      "name": "python",
      "display_name": "Python (Pyodide)",
      "language": "python"
    },
    "language_info": {
      "codemirror_mode": {
        "name": "python",
        "version": 3
      },
      "file_extension": ".py",
      "mimetype": "text/x-python",
      "name": "python",
      "nbconvert_exporter": "python",
      "pygments_lexer": "ipython3",
      "version": "3.8"
    },
    "prev_pub_hash": "ade92979dd70141c119d5b4bacc0df03967cedc29c4b7d26b1149404340075d2"
  },
  "nbformat_minor": 4,
  "nbformat": 4,
  "cells": [
    {
      "cell_type": "markdown",
      "source": "<p style=\"text-align:center\">\n    <a href=\"https://skills.network\" target=\"_blank\">\n    <img src=\"https://cf-courses-data.s3.us.cloud-object-storage.appdomain.cloud/assets/logos/SN_web_lightmode.png\" width=\"200\" alt=\"Skills Network Logo\">\n    </a>\n</p>\n",
      "metadata": {}
    },
    {
      "cell_type": "markdown",
      "source": "# **Exploratory Data Analysis Lab**\n",
      "metadata": {}
    },
    {
      "cell_type": "markdown",
      "source": "Estimated time needed: **30** minutes\n",
      "metadata": {}
    },
    {
      "cell_type": "markdown",
      "source": "In this module you get to work with the cleaned dataset from the previous module.\n\nIn this assignment you will perform the task of exploratory data analysis.\nYou will find out the distribution of data, presence of outliers and also determine the correlation between different columns in the dataset.\n",
      "metadata": {}
    },
    {
      "cell_type": "markdown",
      "source": "## Objectives\n",
      "metadata": {}
    },
    {
      "cell_type": "markdown",
      "source": "In this lab you will perform the following:\n",
      "metadata": {}
    },
    {
      "cell_type": "markdown",
      "source": "-   Identify the distribution of data in the dataset.\n\n-   Identify outliers in the dataset.\n\n-   Remove outliers from the dataset.\n\n-   Identify correlation between features in the dataset.\n",
      "metadata": {}
    },
    {
      "cell_type": "markdown",
      "source": "* * *\n",
      "metadata": {}
    },
    {
      "cell_type": "markdown",
      "source": "## Hands on Lab\n",
      "metadata": {}
    },
    {
      "cell_type": "markdown",
      "source": "Import the pandas module.\n",
      "metadata": {}
    },
    {
      "cell_type": "code",
      "source": "import pandas as pd",
      "metadata": {
        "trusted": true
      },
      "outputs": [],
      "execution_count": 1
    },
    {
      "cell_type": "markdown",
      "source": "Load the dataset into a dataframe.\n",
      "metadata": {}
    },
    {
      "cell_type": "markdown",
      "source": "<h2>Read Data</h2>\n<p>\nWe utilize the <code>pandas.read_csv()</code> function for reading CSV files. However, in this version of the lab, which operates on JupyterLite, the dataset needs to be downloaded to the interface using the provided code below.\n</p>\n",
      "metadata": {}
    },
    {
      "cell_type": "markdown",
      "source": "The functions below will download the dataset into your browser:\n",
      "metadata": {}
    },
    {
      "cell_type": "code",
      "source": "from pyodide.http import pyfetch\n\nasync def download(url, filename):\n    response = await pyfetch(url)\n    if response.status == 200:\n        with open(filename, \"wb\") as f:\n            f.write(await response.bytes())",
      "metadata": {
        "trusted": true
      },
      "outputs": [],
      "execution_count": 2
    },
    {
      "cell_type": "code",
      "source": "file_path = \"https://cf-courses-data.s3.us.cloud-object-storage.appdomain.cloud/IBM-DA0321EN-SkillsNetwork/LargeData/m2_survey_data.csv\"",
      "metadata": {
        "trusted": true
      },
      "outputs": [],
      "execution_count": 3
    },
    {
      "cell_type": "markdown",
      "source": "To obtain the dataset, utilize the download() function as defined above:  \n",
      "metadata": {}
    },
    {
      "cell_type": "code",
      "source": "await download(file_path, \"m2_survey_data.csv\")\nfile_name=\"m2_survey_data.csv\"",
      "metadata": {
        "trusted": true
      },
      "outputs": [],
      "execution_count": 4
    },
    {
      "cell_type": "markdown",
      "source": "Utilize the Pandas method read_csv() to load the data into a dataframe.\n",
      "metadata": {}
    },
    {
      "cell_type": "code",
      "source": "df = pd.read_csv(file_name)",
      "metadata": {
        "trusted": true
      },
      "outputs": [],
      "execution_count": 5
    },
    {
      "cell_type": "markdown",
      "source": "> Note: This version of the lab is working on JupyterLite, which requires the dataset to be downloaded to the interface.While working on the downloaded version of this notebook on their local machines(Jupyter Anaconda), the learners can simply **skip the steps above,** and simply use the URL directly in the `pandas.read_csv()` function. You can uncomment and run the statements in the cell below.\n",
      "metadata": {}
    },
    {
      "cell_type": "code",
      "source": "#df = pd.read_csv(\"https://cf-courses-data.s3.us.cloud-object-storage.appdomain.cloud/IBM-DA0321EN-SkillsNetwork/LargeData/m2_survey_data.csv\")",
      "metadata": {
        "trusted": true
      },
      "outputs": [],
      "execution_count": 6
    },
    {
      "cell_type": "markdown",
      "source": "## Distribution\n",
      "metadata": {}
    },
    {
      "cell_type": "markdown",
      "source": "### Determine how the data is distributed\n",
      "metadata": {}
    },
    {
      "cell_type": "markdown",
      "source": "The column `ConvertedComp` contains Salary converted to annual USD salaries using the exchange rate on 2019-02-01.\n\nThis assumes 12 working months and 50 working weeks.\n",
      "metadata": {}
    },
    {
      "cell_type": "markdown",
      "source": "Plot the distribution curve for the column `ConvertedComp`.\n",
      "metadata": {}
    },
    {
      "cell_type": "code",
      "source": "%matplotlib inline\nimport numpy as np\nimport matplotlib as mpl\nimport matplotlib.pyplot as plt",
      "metadata": {
        "trusted": true
      },
      "outputs": [],
      "execution_count": 19
    },
    {
      "cell_type": "code",
      "source": "# Assuming df is a pandas DataFrame and 'ConvertedComp' is one of its columns\ndata = df['ConvertedComp'].dropna()\n\n# Create a histogram and density plot using matplotlib\nfig, ax = plt.subplots(figsize=(10, 6))\n\n# Plot the histogram\nn, bins, patches = ax.hist(data, bins=30, density=True, alpha=0.6, color='g', edgecolor='black')\n\n# Plot the density\ndensity = np.histogram(data, bins=bins, density=True)[0]\nbin_centers = 0.5 * (bins[1:] + bins[:-1])\nax.plot(bin_centers, density, '-', color='blue')\n\nax.set_xlabel('ConvertedComp')\nax.set_ylabel('Density')\nax.set_title('Distribution of ConvertedComp')\n\nplt.show()\n",
      "metadata": {
        "trusted": true
      },
      "outputs": [
        {
          "output_type": "display_data",
          "data": {
            "text/plain": "<Figure size 1000x600 with 1 Axes>",
            "image/png": "[encoded data removed]"
          },
          "metadata": {}
        }
      ],
      "execution_count": 20
    },
    {
      "cell_type": "markdown",
      "source": "Plot the histogram for the column `ConvertedComp`.\n",
      "metadata": {}
    },
    {
      "cell_type": "code",
      "source": "# your code goes here\ndf['ConvertedComp'].plot.hist(bins=12, alpha=0.5) ",
      "metadata": {
        "trusted": true
      },
      "outputs": [
        {
          "execution_count": 22,
          "output_type": "execute_result",
          "data": {
            "text/plain": "<AxesSubplot:ylabel='Frequency'>"
          },
          "metadata": {}
        },
        {
          "output_type": "display_data",
          "data": {
            "text/plain": "<Figure size 640x480 with 1 Axes>",
            "image/png": "[encoded data removed]"
          },
          "metadata": {}
        }
      ],
      "execution_count": 22
    },
    {
      "cell_type": "markdown",
      "source": "What is the median of the column `ConvertedComp`?\n",
      "metadata": {}
    },
    {
      "cell_type": "code",
      "source": "# your code goes here\ndf[\"ConvertedComp\"].median()",
      "metadata": {
        "trusted": true
      },
      "outputs": [
        {
          "execution_count": 23,
          "output_type": "execute_result",
          "data": {
            "text/plain": "57745.0"
          },
          "metadata": {}
        }
      ],
      "execution_count": 23
    },
    {
      "cell_type": "markdown",
      "source": "How many responders identified themselves only as a **Man**?\n",
      "metadata": {}
    },
    {
      "cell_type": "code",
      "source": "# your code goes here\ndf[\"Gender\"].value_counts()",
      "metadata": {
        "trusted": true
      },
      "outputs": [
        {
          "execution_count": 25,
          "output_type": "execute_result",
          "data": {
            "text/plain": "Man                                                            10480\nWoman                                                            731\nNon-binary, genderqueer, or gender non-conforming                 63\nMan;Non-binary, genderqueer, or gender non-conforming             26\nWoman;Non-binary, genderqueer, or gender non-conforming           14\nWoman;Man                                                          9\nWoman;Man;Non-binary, genderqueer, or gender non-conforming        2\nName: Gender, dtype: int64"
          },
          "metadata": {}
        }
      ],
      "execution_count": 25
    },
    {
      "cell_type": "markdown",
      "source": "Find out the  median ConvertedComp of responders identified themselves only as a **Woman**?\n",
      "metadata": {}
    },
    {
      "cell_type": "code",
      "source": "# your code goes here\ndf['Gender'].eq('Woman').sum()",
      "metadata": {
        "trusted": true
      },
      "outputs": [
        {
          "execution_count": 28,
          "output_type": "execute_result",
          "data": {
            "text/plain": "731"
          },
          "metadata": {}
        }
      ],
      "execution_count": 28
    },
    {
      "cell_type": "markdown",
      "source": "Give the five number summary for the column `Age`?\n",
      "metadata": {}
    },
    {
      "cell_type": "markdown",
      "source": "**Double click here for hint**.\n\n<!--\nmin,q1,median,q3,max of a column are its five number summary.\n-->\n",
      "metadata": {}
    },
    {
      "cell_type": "code",
      "source": "# your code goes here\ndf['Age'].describe()",
      "metadata": {
        "trusted": true
      },
      "outputs": [
        {
          "execution_count": 29,
          "output_type": "execute_result",
          "data": {
            "text/plain": "count    11111.000000\nmean        30.778895\nstd          7.393686\nmin         16.000000\n25%         25.000000\n50%         29.000000\n75%         35.000000\nmax         99.000000\nName: Age, dtype: float64"
          },
          "metadata": {}
        }
      ],
      "execution_count": 29
    },
    {
      "cell_type": "markdown",
      "source": "Plot a histogram of the column `Age`.\n",
      "metadata": {}
    },
    {
      "cell_type": "code",
      "source": "# your code goes here\ndf['Age'].plot.hist(bins=12, alpha=0.5) ",
      "metadata": {
        "trusted": true
      },
      "outputs": [
        {
          "execution_count": 31,
          "output_type": "execute_result",
          "data": {
            "text/plain": "<AxesSubplot:ylabel='Frequency'>"
          },
          "metadata": {}
        },
        {
          "output_type": "display_data",
          "data": {
            "text/plain": "<Figure size 640x480 with 1 Axes>",
            "image/png": "[encoded data removed]"
          },
          "metadata": {}
        }
      ],
      "execution_count": 31
    },
    {
      "cell_type": "markdown",
      "source": "## Outliers\n",
      "metadata": {}
    },
    {
      "cell_type": "markdown",
      "source": "### Finding outliers\n",
      "metadata": {}
    },
    {
      "cell_type": "markdown",
      "source": "Find out if outliers exist in the column `ConvertedComp` using a box plot?\n",
      "metadata": {}
    },
    {
      "cell_type": "code",
      "source": "# your code goes here\nsns.boxplot(x=df[\"ConvertedComp\"])",
      "metadata": {},
      "outputs": [],
      "execution_count": null
    },
    {
      "cell_type": "markdown",
      "source": "Find out the Inter Quartile Range for the column `ConvertedComp`.\n",
      "metadata": {}
    },
    {
      "cell_type": "code",
      "source": "# your code goes here\ndf['ConvertedComp'].describe()",
      "metadata": {
        "trusted": true
      },
      "outputs": [
        {
          "execution_count": 34,
          "output_type": "execute_result",
          "data": {
            "text/plain": "count    1.058200e+04\nmean     1.315967e+05\nstd      2.947865e+05\nmin      0.000000e+00\n25%      2.686800e+04\n50%      5.774500e+04\n75%      1.000000e+05\nmax      2.000000e+06\nName: ConvertedComp, dtype: float64"
          },
          "metadata": {}
        }
      ],
      "execution_count": 34
    },
    {
      "cell_type": "markdown",
      "source": "Find out the upper and lower bounds.\n",
      "metadata": {}
    },
    {
      "cell_type": "code",
      "source": "# your code goes here\nQ1 = df['ConvertedComp'].quantile(0.25)\nQ3 = df['ConvertedComp'].quantile(0.75)\nIQR = Q3 - Q1\nprint('Interquartile range is', IQR)\n\nQ4 = df['ConvertedComp'].quantile(1)\nprint('upper bound is', Q1)\nprint('lower bound is', Q4)",
      "metadata": {
        "trusted": true
      },
      "outputs": [
        {
          "name": "stdout",
          "text": "Interquartile range is 73132.0\nupper bound is 26868.0\nlower bound is 2000000.0\n",
          "output_type": "stream"
        }
      ],
      "execution_count": 36
    },
    {
      "cell_type": "markdown",
      "source": "Identify how many outliers are there in the `ConvertedComp` column.\n",
      "metadata": {}
    },
    {
      "cell_type": "code",
      "source": "# your code goes here\nOutliers_below_1stQ = df['ConvertedComp'] < (Q1 - 1.5*IQR).sum()\nOutliers_above_3rdQ = df['ConvertedComp'] > (Q3 + 1.5*IQR).sum()\n\nprint(Outliers_below_1stQ)\nprint(Outliers_above_3rdQ)",
      "metadata": {
        "trusted": true
      },
      "outputs": [
        {
          "name": "stdout",
          "text": "0        False\n1        False\n2        False\n3        False\n4        False\n         ...  \n11393    False\n11394    False\n11395    False\n11396    False\n11397    False\nName: ConvertedComp, Length: 11398, dtype: bool\n0        False\n1        False\n2        False\n3         True\n4        False\n         ...  \n11393    False\n11394    False\n11395    False\n11396    False\n11397    False\nName: ConvertedComp, Length: 11398, dtype: bool\n",
          "output_type": "stream"
        }
      ],
      "execution_count": 37
    },
    {
      "cell_type": "markdown",
      "source": "Create a new dataframe by removing the outliers from the `ConvertedComp` column.\n",
      "metadata": {}
    },
    {
      "cell_type": "code",
      "source": "# your code goes here\ndf['ConvertedComp'].shape\n\n#removing the 1st set of outliers.\ndf1 = df[~(Outliers_below_1stQ)]    #Tilde sign (~) in pandas is used to work with Boolean values (True/False). \n                                    #It works as a negation operator i.e. it reverses the Boolean values.\n                                    #If we assign a tilde sign before any statement which is supposed to return True then this tilde sign converts True to False and vice versa.\ndf1.shape\n\ndf2 = df[~(Outliers_above_3rdQ)]\n\ndf2.shape",
      "metadata": {
        "trusted": true
      },
      "outputs": [
        {
          "execution_count": 40,
          "output_type": "execute_result",
          "data": {
            "text/plain": "(10519, 85)"
          },
          "metadata": {}
        }
      ],
      "execution_count": 40
    },
    {
      "cell_type": "markdown",
      "source": "## Correlation\n",
      "metadata": {}
    },
    {
      "cell_type": "markdown",
      "source": "### Finding correlation\n",
      "metadata": {}
    },
    {
      "cell_type": "markdown",
      "source": "Find the correlation between `Age` and all other numerical columns.\n",
      "metadata": {}
    },
    {
      "cell_type": "code",
      "source": "# your code goes here\ndf.corr()['Age']",
      "metadata": {
        "trusted": true
      },
      "outputs": [
        {
          "name": "stderr",
          "text": "<ipython-input-41-bead62608471>:2: FutureWarning: The default value of numeric_only in DataFrame.corr is deprecated. In a future version, it will default to False. Select only valid columns or specify the value of numeric_only to silence this warning.\n  df.corr()['Age']\n",
          "output_type": "stream"
        },
        {
          "execution_count": 41,
          "output_type": "execute_result",
          "data": {
            "text/plain": "Respondent       0.004041\nCompTotal        0.006970\nConvertedComp    0.105386\nWorkWeekHrs      0.036518\nCodeRevHrs      -0.020469\nAge              1.000000\nName: Age, dtype: float64"
          },
          "metadata": {}
        }
      ],
      "execution_count": 41
    },
    {
      "cell_type": "markdown",
      "source": "## Authors\n",
      "metadata": {}
    },
    {
      "cell_type": "markdown",
      "source": "Ramesh Sannareddy\n",
      "metadata": {}
    },
    {
      "cell_type": "markdown",
      "source": "### Other Contributors\n",
      "metadata": {}
    },
    {
      "cell_type": "markdown",
      "source": "Rav Ahuja\n",
      "metadata": {}
    },
    {
      "cell_type": "markdown",
      "source": "## Change Log\n",
      "metadata": {}
    },
    {
      "cell_type": "markdown",
      "source": "| Date (YYYY-MM-DD) | Version | Changed By        | Change Description                 |\n| ----------------- | ------- | ----------------- | ---------------------------------- |\n| 2020-10-17        | 0.1     | Ramesh Sannareddy | Created initial version of the lab |\n",
      "metadata": {}
    },
    {
      "cell_type": "markdown",
      "source": " Copyright © 2020 IBM Corporation. This notebook and its source code are released under the terms of the [MIT License](https://cognitiveclass.ai/mit-license?cm_mmc=Email_Newsletter-_-Developer_Ed%2BTech-_-WW_WW-_-SkillsNetwork-Courses-IBM-DA0321EN-SkillsNetwork-21426264&cm_mmca1=000026UJ&cm_mmca2=10006555&cm_mmca3=M12345678&cvosrc=email.Newsletter.M12345678&cvo_campaign=000026UJ&cm_mmc=Email_Newsletter-_-Developer_Ed%2BTech-_-WW_WW-_-SkillsNetwork-Courses-IBM-DA0321EN-SkillsNetwork-21426264&cm_mmca1=000026UJ&cm_mmca2=10006555&cm_mmca3=M12345678&cvosrc=email.Newsletter.M12345678&cvo_campaign=000026UJ&cm_mmc=Email_Newsletter-_-Developer_Ed%2BTech-_-WW_WW-_-SkillsNetwork-Courses-IBM-DA0321EN-SkillsNetwork-21426264&cm_mmca1=000026UJ&cm_mmca2=10006555&cm_mmca3=M12345678&cvosrc=email.Newsletter.M12345678&cvo_campaign=000026UJ&cm_mmc=Email_Newsletter-_-Developer_Ed%2BTech-_-WW_WW-_-SkillsNetwork-Courses-IBM-DA0321EN-SkillsNetwork-21426264&cm_mmca1=000026UJ&cm_mmca2=10006555&cm_mmca3=M12345678&cvosrc=email.Newsletter.M12345678&cvo_campaign=000026UJ).\n",
      "metadata": {}
    }
  ]
}